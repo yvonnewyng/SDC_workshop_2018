{
 "cells": [
  {
   "cell_type": "markdown",
   "metadata": {
    "collapsed": true
   },
   "source": [
    "# Functions\n",
    "---\n",
    "\n",
    "* A function defines a template of actions\n",
    "* Varibles get passed into the template\n",
    "* A new value is returned from the function\n",
    "\n",
    "\n",
    "Like a recipe!\n",
    "\n",
    "\n",
    "In python we are able to define a function with `def`. Here we define a function that we will call \"add_two_numbers\"\n",
    "\n",
    "\n",
    "`def add_two_numbers():`\n",
    "\n",
    "\n",
    "The parenthesis after the name allow us to 'pass' values, or arguments, to the function. Just like if/else statements we begin the definition with a colon (`:`)."
   ]
  },
  {
   "cell_type": "code",
   "execution_count": 1,
   "metadata": {
    "collapsed": true
   },
   "outputs": [],
   "source": [
    "# Here we define a function (add_number) that takes 1 arguments (num1)\n",
    "def add_number(num1):\n",
    "    answer = 50 + num1\n",
    "    return answer\n",
    "#return tells you to give you answer"
   ]
  },
  {
   "cell_type": "markdown",
   "metadata": {},
   "source": [
    "The `return` gives a value back. A function that doesn’t explicitly return a value automatically returns None.\n",
    "\n",
    "**NOTE: Defining a function does not run it.**\n",
    "\n",
    "You must 'call' the function to execute the code it contains."
   ]
  },
  {
   "cell_type": "code",
   "execution_count": 2,
   "metadata": {},
   "outputs": [
    {
     "data": {
      "text/plain": [
       "140"
      ]
     },
     "execution_count": 2,
     "metadata": {},
     "output_type": "execute_result"
    }
   ],
   "source": [
    "add_number(90)"
   ]
  },
  {
   "cell_type": "markdown",
   "metadata": {},
   "source": [
    "You can pass multiple arguments to a function by separating them with a comma. The arguments are passed to the function in the order in which they are defined"
   ]
  },
  {
   "cell_type": "code",
   "execution_count": 3,
   "metadata": {},
   "outputs": [
    {
     "name": "stdout",
     "output_type": "stream",
     "text": [
      "2.0\n",
      "0.5\n"
     ]
    }
   ],
   "source": [
    "# A function called divide_two_numbers that take 2 arguments: num1 and num2\n",
    "def divide_two_numbers(num1, num2): \n",
    "    # This is the body of the function\n",
    "    total = num1 / num2 # do the stuff - total is a local number. not global\n",
    "    return total # use the return statment to tell the function what to return\n",
    "\n",
    "first_result = divide_two_numbers(100,50)\n",
    "print(first_result)\n",
    "\n",
    "second_result = divide_two_numbers(50,100)\n",
    "print(second_result)"
   ]
  },
  {
   "cell_type": "markdown",
   "metadata": {},
   "source": [
    "## Why Use Functions?\n",
    "Functions let us break down our programs into smaller bits that can be reused and tested\n",
    "* Human beings can only keep a few items in working memory at a time.\n",
    "* Understand larger/more complicated ideas by understanding and combining pieces.\n",
    "* Functions serve the same purpose in programs.\n",
    "    * Encapsulate complexity so that we can treat it as a single “thing”.\n",
    "* **Enables reusablility**.\n",
    "    * Write one time, use many times."
   ]
  },
  {
   "cell_type": "markdown",
   "metadata": {
    "collapsed": true
   },
   "source": [
    "### 1.Testability\n",
    "Imagine a really big program with lots of lines of code. There is a problem somewhere in the code because you are not getting the results you expect\n",
    "\n",
    "* How do you find the problem in your code?\n",
    "* If your program is composed of lots of small functions that only do one thing then you can test each function individually.\n",
    "\n",
    "### 2. Reusability\n",
    "Imagine a really big program with lots of lines of code. There is a section of code you want to use in a different part of the program.\n",
    "\n",
    "* How do you reuse that part of the code?\n",
    "* If you just have one big program then you have to copy and paste that bit of code where you want it to go, but if that bit was a function, you could just use that function\n",
    "\n",
    "\n",
    "#### Always keep both of these concepts in mind when writing programs.  \n",
    "\n",
    "\n",
    "* Write small functions that do one thing  \n",
    "* Never have one giant function that does a million things.  \n",
    "* A well written script is composed of lots of functions that do one thing  "
   ]
  },
  {
   "cell_type": "markdown",
   "metadata": {},
   "source": [
    "---\n",
    "## EtherPad\n",
    "What does the following program print? (Don't actually code, just think about it.)\n",
    "    \n",
    "    def report(pressure):\n",
    "        print('The pressure is: ', pressure)\n",
    "\n",
    "    report(22.5)\n",
    "    \n",
    "Post your answer to EtherPad or vote for the correct answer if you see it The pressure is 22.5\n",
    "\n",
    "---"
   ]
  },
  {
   "cell_type": "markdown",
   "metadata": {},
   "source": [
    "---\n",
    "## EXERCISE:\n",
    "“Adding” two strings produces their concatenation: 'a' + 'b' is 'ab'.\n",
    "1. Write a function called quote that takes two parameters called `original` and `wrapper` and returns a new string that has the wrapper value at the beginning and end of the original. \n",
    "\n",
    "1. Call your function with the inputs `\"name\"` and `'\"'`\n",
    "\n",
    "---"
   ]
  },
  {
   "cell_type": "code",
   "execution_count": 12,
   "metadata": {},
   "outputs": [
    {
     "name": "stdout",
     "output_type": "stream",
     "text": [
      "\"name\"\n"
     ]
    }
   ],
   "source": [
    "def quote(original, wrapper):\n",
    "    total = wrapper + original + wrapper\n",
    "    return total\n",
    "print(quote(\"name\",'\"'))"
   ]
  },
  {
   "cell_type": "markdown",
   "metadata": {},
   "source": [
    "---\n",
    "## EXERCISE:\n",
    "If the variable 's' refers to a string, then s[0] is the string’s first character and s[-1] is its last.\n",
    "1. Write a function called outer that returns a string made up of just the first and last characters of its input. \n",
    "1. Call you function with the input `\"helium\"`"
   ]
  },
  {
   "cell_type": "code",
   "execution_count": 18,
   "metadata": {},
   "outputs": [
    {
     "name": "stdout",
     "output_type": "stream",
     "text": [
      "'name'\n",
      "eggsthiseggs\n",
      "g\n",
      "s\n",
      "g\n"
     ]
    }
   ],
   "source": [
    "def quote(original, wrapper):\n",
    "    total = wrapper + original + wrapper\n",
    "    return total \n",
    "\n",
    "print(quote (\"name\", \"'\"))\n",
    "new_string = quote(\"this\", \"eggs\")\n",
    "print(new_string)\n",
    "print(new_string[-3])\n",
    "print(new_string[-1])\n",
    "print(new_string[-2])\n"
   ]
  },
  {
   "cell_type": "code",
   "execution_count": 33,
   "metadata": {},
   "outputs": [
    {
     "name": "stdout",
     "output_type": "stream",
     "text": [
      "hm\n"
     ]
    }
   ],
   "source": [
    "def outer(input):\n",
    "    first_char = input[0]\n",
    "    last_char = input[-1]\n",
    "    return first_char + last_char\n",
    "\n",
    "print(outer(\"helium\"))\n"
   ]
  },
  {
   "cell_type": "markdown",
   "metadata": {},
   "source": [
    "---\n",
    "## EXERCISE:\n",
    "1. Explain why the two lines of output below appeared in the order they did.\n",
    "    ```\n",
    "    def print_date(year, month, day):\n",
    "        joined = str(year) + '/' + str(month) + '/' + str(day)\n",
    "        print(joined)\n",
    "\n",
    "    result = print_date(1871, 3, 19)\n",
    "    print('result of call is:', result)\n",
    "    ```\n",
    "    OUTPUT:\n",
    "    ~~~\n",
    "    1871/3/19  \n",
    "    result of call is: None\n",
    "    ~~~\n",
    "\n",
    "---"
   ]
  },
  {
   "cell_type": "markdown",
   "metadata": {},
   "source": [
    "---\n",
    "## EXERCISE:"
   ]
  },
  {
   "cell_type": "markdown",
   "metadata": {},
   "source": [
    "## The Problem\n",
    "Last month we ran an experiment in the lab, but one of the windows was left open\n",
    "If the temperature in the lab fell below 285 degrees Kelvin all of the data is ruined\n",
    "\n",
    "Luckily a data logger was running, but unfortunately it only collects the temperature in fahrenheit.\n",
    "\n",
    "**Example log data:**\n",
    "\n",
    "```\n",
    "beginTime,endTime,Temp\n",
    "1/1/2017 0:00,1/1/2017 1:00,54.0\n",
    "1/1/2017 1:00,1/1/2017 2:00,11.7\n",
    "1/1/2017 2:00,1/1/2017 3:00,11.7\n",
    "```"
   ]
  },
  {
   "cell_type": "markdown",
   "metadata": {},
   "source": [
    "1\\. Write a function that converts temperatures from Fahrenheit to Kelvin. ((temp_f - 32) * (5/9)) + 273.15)"
   ]
  },
  {
   "cell_type": "code",
   "execution_count": 37,
   "metadata": {},
   "outputs": [
    {
     "name": "stdout",
     "output_type": "stream",
     "text": [
      "288.7055555555555\n"
     ]
    }
   ],
   "source": [
    "def fahr_to_kelvin(temp_f):\n",
    "    # write your function here\n",
    "    kelvin = (((temp_f - 32) * (5/9)) + 273.15)\n",
    "    return kelvin\n",
    "\n",
    "print (fahr_to_kelvin(60))\n",
    "       "
   ]
  },
  {
   "cell_type": "markdown",
   "metadata": {},
   "source": [
    "2\\. We read the packaging on the materials wrong! If the temperature in the lab fell below -5 degrees Celsius all of the data is ruined.\n",
    "\n",
    "Write a function that converts temperatures from Kelvin into Celsius. (temp_k + 273.15)"
   ]
  },
  {
   "cell_type": "code",
   "execution_count": 39,
   "metadata": {},
   "outputs": [
    {
     "name": "stdout",
     "output_type": "stream",
     "text": [
      "4.850000000000023\n"
     ]
    }
   ],
   "source": [
    "# write your function here\n",
    "def Kelvin_to_celsius(temp_k):\n",
    "    celsius = (temp_k-273.15)\n",
    "    return celsius\n",
    "\n",
    "print (Kelvin_to_celsius(278))"
   ]
  },
  {
   "cell_type": "markdown",
   "metadata": {
    "collapsed": true
   },
   "source": [
    "Because we know issues like this happen all of the time, let's prepare for the inevitability.\n",
    "\n",
    "3\\. Write a function to convert fahrenheit to celsius, without a formula.\n",
    "    * We could write out the formula, but we don’t need to. Instead, we can compose the two functions we have already created"
   ]
  },
  {
   "cell_type": "code",
   "execution_count": 44,
   "metadata": {},
   "outputs": [
    {
     "name": "stdout",
     "output_type": "stream",
     "text": [
      "15.555555555555543\n"
     ]
    }
   ],
   "source": [
    "def fahr_to_celsius(temp_f):\n",
    "    temp_k = fahr_to_kelvin(temp_f)\n",
    "    temp_c = Kelvin_to_celsius(temp_k)\n",
    "    return temp_c\n",
    "\n",
    "print (fahr_to_celsius(60))"
   ]
  },
  {
   "cell_type": "markdown",
   "metadata": {},
   "source": [
    "This is our first taste of how larger programs are built: we define basic operations, then combine them in ever-large chunks to get the effect we want. Real-life functions will usually be larger than the ones shown here — typically half a dozen to a few dozen lines — but they shouldn’t ever be much longer than that, or the next person who reads it won’t be able to understand what’s going on."
   ]
  },
  {
   "cell_type": "markdown",
   "metadata": {},
   "source": [
    "## -- COMMIT YOUR WORK TO GITHUB --"
   ]
  },
  {
   "cell_type": "markdown",
   "metadata": {},
   "source": [
    "### Allowing for Default Values in a Function\n",
    "If we usually want a function to work one way, but occasionally need it to do something else, we can allow people to pass a parameter when they need to but provide a default to make the normal case easier."
   ]
  },
  {
   "cell_type": "code",
   "execution_count": null,
   "metadata": {
    "collapsed": true
   },
   "outputs": [],
   "source": [
    "def display(a=1, b=2, c=3):\n",
    "    print('a:', a, 'b:', b, 'c:', c)\n",
    "\n",
    "print('no parameters:')\n",
    "display()\n",
    "print('one parameter:')\n",
    "display(55)\n",
    "print('two parameters:')\n",
    "display(55, 66)"
   ]
  },
  {
   "cell_type": "markdown",
   "metadata": {},
   "source": [
    "As this example shows, parameters are matched up from left to right, and any that haven’t been given a value explicitly get their default value. We can override this behavior by naming the value as we pass it in:"
   ]
  },
  {
   "cell_type": "code",
   "execution_count": null,
   "metadata": {
    "collapsed": true
   },
   "outputs": [],
   "source": [
    "print('only setting the value of c')\n",
    "display(c=77)"
   ]
  },
  {
   "cell_type": "markdown",
   "metadata": {},
   "source": [
    "---\n",
    "## EXERCISE:\n",
    "It looks like the logger actually can collect celsius after all! Unfortunately it forgets what temperature type to log and has been intermittently logging both.\n",
    "\n",
    "**Example log data:**\n",
    "```\n",
    "beginTime,endTime,Temp,TempType\n",
    "1/1/2017 0:00,1/1/2017 1:00,54.0,F\n",
    "1/1/2017 1:00,1/1/2017 2:00,11.7,C\n",
    "1/1/2017 2:00,1/1/2017 3:00,11.7,C\n",
    "```\n",
    "\n",
    "1. Write a function that either converts to fahrenheit or celsius based on a parameter, with a default assuming fahrenheit ('F')\n",
    "    * Remember if/else:"
   ]
  },
  {
   "cell_type": "code",
   "execution_count": null,
   "metadata": {
    "collapsed": true
   },
   "outputs": [],
   "source": []
  },
  {
   "cell_type": "markdown",
   "metadata": {
    "collapsed": true
   },
   "source": [
    "# -- COMMIT YOUR WORK TO GITHUB --"
   ]
  }
 ],
 "metadata": {
  "anaconda-cloud": {},
  "kernelspec": {
   "display_name": "Python 3",
   "language": "python",
   "name": "python3"
  },
  "language_info": {
   "codemirror_mode": {
    "name": "ipython",
    "version": 3
   },
   "file_extension": ".py",
   "mimetype": "text/x-python",
   "name": "python",
   "nbconvert_exporter": "python",
   "pygments_lexer": "ipython3",
   "version": "3.6.3"
  }
 },
 "nbformat": 4,
 "nbformat_minor": 2
}
